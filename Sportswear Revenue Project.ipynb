{
 "cells": [
  {
   "cell_type": "markdown",
   "id": "60be64d7-347e-4d95-a1ba-dc475c589eec",
   "metadata": {},
   "<img src= "https://glacialridge.org/wp-content/uploads/2021/08/FB_Boy_Trying_Shoes.jpeg" alt=\"Sports Brands\" />\n",
    "Sports clothing and athleisure attire is a huge industry, worth approximately [$193 billion in 2021](https://www.statista.com/statistics/254489/total-revenue-of-the-global-sports-apparel-market/) with a strong growth forecast over the next decade! \n",
    "\n",
    "In this notebook, you will undertake the role of a product analyst for an online sports clothing company. The company is specifically interested in how it can improve revenue. You will dive into product data such as pricing, reviews, descriptions, and ratings, as well as revenue and website traffic, to produce recommendations for its marketing and sales teams.  \n",
    "\n",
    "You've been provided with five datasets to investigate:\n",
    "* `info.csv`\n",
    "* `finance.csv`\n",
    "* `reviews.csv`\n",
    "* `traffic.csv`\n",
    "* `brands.csv`\n",
    "\n",
    "The company has asked you to answer the following questions:\n",
    "\n",
    "## What is the volume of products and average revenue for Adidas and Nike products based on price quartiles?\n",
    "\n",
    "* Label products priced up to quartile one as `\"Budget\"`, quartile 2 as `\"Average\"`, quartile 3 as `\"Expensive\"`, and quartile 4 as `\"Elite\"`.\n",
    "* Store as a `pandas` DataFrame called `adidas_vs_nike` containing the following columns: `\"brand\"`, `\"price_label\"`, `\"count\"`, and `\"revenue\"`.\n",
    "\n",
    "## Do any differences exist between the word count of a product's description and its mean rating?\n",
    "\n",
    "* Store the results as a `pandas` DataFrame called `description_lengths` containing the following columns: `\"description_length\"`, `\"rating\"`, `\"reviews\"`.\n",
    "\n",
    "## How does the volume of products and median revenue vary between clothing and footwear?\n",
    "\n",
    "* Store as a `pandas` DataFrame called `product_types` containing the following columns: `\"clothing_products\"`, `\"clothing_revenue\"`, `\"footwear_products\"`, `\"footwear_revenue\"`.\n",
    "\n",
    "## Completing the project\n",
    "\n",
    "* Create a dictionary called `revenue_analysis` containing the following key-value pairs:\n",
    "\t- `\"brand_analysis\"`: `adidas_vs_nike` DataFrame.\n",
    "\t- `\"description_analysis\"`: `description_lengths` DataFrame.\n",
    "    - `\"product_analysis\"`: `product_types` DataFrame"
   ]
  },
  {
   "cell_type": "code",
   "execution_count": 8,
   "id": "d0eb4f16-5a99-460d-a5ba-706b7ef0bbe7",
   "metadata": {
    "executionTime": 60,
    "id": "bA5ajAmk7XH6",
    "jupyter": {
     "outputs_hidden": false,
     "source_hidden": false
    },
    "lastSuccessfullyExecutedCode": "# Start coding here... \nimport pandas as pd\ndf_info1 = pd.read_csv(\"info.csv\")\ndf_finance1 = pd.read_csv(\"finance.csv\")\ndf_reviews1 = pd.read_csv(\"reviews.csv\")\ndf_traffic1 = pd.read_csv(\"traffic.csv\")\ndf_brands1 = pd.read_csv(\"brands.csv\")\ndf_info = df_info1.dropna()\ndf_finance = df_finance1.dropna()\ndf_reviews = df_reviews1.dropna()\ndf_traffic = df_traffic1.dropna()\ndf_brands = df_brands1.dropna()"
   },
   "outputs": [],
   "source": [
    "# Start coding here... \n",
    "import pandas as pd\n",
    "df_info1 = pd.read_csv(\"info.csv\")\n",
    "df_finance1 = pd.read_csv(\"finance.csv\")\n",
    "df_reviews1 = pd.read_csv(\"reviews.csv\")\n",
    "df_traffic1 = pd.read_csv(\"traffic.csv\")\n",
    "df_brands1 = pd.read_csv(\"brands.csv\")\n",
    "df_info = df_info1.dropna()\n",
    "df_finance = df_finance1.dropna()\n",
    "df_reviews = df_reviews1.dropna()\n",
    "df_traffic = df_traffic1.dropna()\n",
    "df_brands = df_brands1.dropna()"
   ]
  },
  {
   "cell_type": "markdown",
   "id": "70230356-e65d-4775-b5fc-d2cb71a3a3a7",
   "metadata": {},
   "source": [
    "### Question Number 1"
   ]
  },
  {
   "cell_type": "code",
   "execution_count": 73,
   "id": "3c60bd36-2639-4757-b286-3f2eadb012ab",
   "metadata": {
    "executionTime": 53,
    "lastSuccessfullyExecutedCode": "df_info.head()\nmerged_df = df_info.merge(df_finance, on = \"product_id\", how = \"outer\")\nmerged_df = merged_df.merge(df_reviews, on = \"product_id\", how = \"outer\")\nmerged_df = merged_df.merge(df_traffic, on = \"product_id\", how = \"outer\")\nmerged_df = merged_df.merge(df_brands, on = \"product_id\", how = \"outer\")\n\nmerged_df.dropna(inplace=True)\n"
   },
   "outputs": [],
   "source": [
    "#merge all the data together\n",
    "df_info.head()\n",
    "merged_df = df_info.merge(df_finance, on = \"product_id\", how = \"outer\")\n",
    "merged_df = merged_df.merge(df_reviews, on = \"product_id\", how = \"outer\")\n",
    "merged_df = merged_df.merge(df_traffic, on = \"product_id\", how = \"outer\")\n",
    "merged_df = merged_df.merge(df_brands, on = \"product_id\", how = \"outer\")\n",
    "\n",
    "merged_df.dropna(inplace=True)\n"
   ]
  },
  {
   "cell_type": "code",
   "execution_count": 74,
   "id": "bfbc2ede-99ce-42f9-8481-48a00053d5ac",
   "metadata": {
    "executionTime": 56,
    "lastSuccessfullyExecutedCode": "merged_df[\"listing_price\"].describe()\n# Check the data"
   },
   "outputs": [
    {
     "data": {
      "text/plain": [
       "count    2873.000000\n",
       "mean       69.837515\n",
       "std        46.399774\n",
       "min         0.000000\n",
       "25%        45.990000\n",
       "50%        59.990000\n",
       "75%        89.990000\n",
       "max       299.990000\n",
       "Name: listing_price, dtype: float64"
      ]
     },
     "execution_count": 74,
     "metadata": {},
     "output_type": "execute_result"
    }
   ],
   "source": [
    "merged_df[\"listing_price\"].describe()\n",
    "# Check the data"
   ]
  },
  {
   "cell_type": "code",
   "execution_count": 75,
   "id": "84ca7688-21b2-4d58-a8ed-aa57a33fdab3",
   "metadata": {
    "executionTime": 79,
    "lastSuccessfullyExecutedCode": "# create 4 bins based on quartile\nbin_labels = [\"Cheap\",\"Average\",\"Expensive\", \"Elite\"]\nmerged_df[\"price_label\"] = pd.qcut(merged_df['listing_price'], q=4, labels=bin_labels)\n\nmerged_df.head()"
   },
   "outputs": [
    {
     "data": {
      "application/com.datacamp.data-table.v1+json": {
       "table": {
        "data": [
         {
          "brand": "Adidas",
          "description": "A modern take on adidas sport heritage, tailored just for women. Perforated 3-Stripes on the leather upper of these shoes offer a sleek look that mirrors iconic tennis styles.",
          "discount": 0.5,
          "index": 0,
          "last_visited": "2018-11-29 16:16:00",
          "listing_price": 75.99,
          "price_label": "Expensive",
          "product_id": "G27341",
          "product_name": "Women's adidas Originals Sleek Shoes",
          "rating": 3.3,
          "revenue": 1641.17,
          "reviews": 24,
          "sale_price": 37.99
         },
         {
          "brand": "Adidas",
          "description": "These adidas Puka slippers for women's come with slim straps for a great fit. Feature performance logo on the footbed and textured Rubber outsole that gives unique comfort.",
          "discount": 0.4,
          "index": 1,
          "last_visited": "2018-02-01 10:27:00",
          "listing_price": 9.99,
          "price_label": "Cheap",
          "product_id": "CM0081",
          "product_name": "Women's adidas Swim Puka Slippers",
          "rating": 2.6,
          "revenue": 398.93,
          "reviews": 37,
          "sale_price": 5.99
         },
         {
          "brand": "Adidas",
          "description": "Inspired by modern tech runners, these women's shoes step out with unexpected style. They're built with a breathable knit upper, while the heel offers the extra support of an Achilles-hugging design. The cushioned midsole provides a soft landing with every stride.",
          "discount": 0.5,
          "index": 2,
          "last_visited": "2018-09-07 20:06:00",
          "listing_price": 69.99,
          "price_label": "Expensive",
          "product_id": "B44832",
          "product_name": "Women's adidas Sport Inspired Questar Ride Shoes",
          "rating": 4.1,
          "revenue": 2204.37,
          "reviews": 35,
          "sale_price": 34.99
         },
         {
          "brand": "Adidas",
          "description": "This design is inspired by vintage Taekwondo styles originally worn to perfect high kicks and rapid foot strikes. The canvas shoes make a streetwear fashion statement as a chic, foot-hugging slip-on. They're shaped for a narrow, women's-specific fit and ride on a soft gum rubber outsole.",
          "discount": 0.5,
          "index": 3,
          "last_visited": "2019-07-18 15:26:00",
          "listing_price": 79.99,
          "price_label": "Expensive",
          "product_id": "D98205",
          "product_name": "Women's adidas Originals Taekwondo Shoes",
          "rating": 3.5,
          "revenue": 5182.7,
          "reviews": 72,
          "sale_price": 39.99
         },
         {
          "brand": "Adidas",
          "description": "Refine your interval training in these women's versatile running-inspired shoes. Featuring a lightweight mesh and synthetic upper, they combine responsive midsole cushioning with a soft collar that reduces ankle pressure.",
          "discount": 0.6,
          "index": 4,
          "last_visited": "2019-01-30 12:09:00",
          "listing_price": 47.99,
          "price_label": "Average",
          "product_id": "B75586",
          "product_name": "Women's adidas Sport Inspired Duramo Lite 2.0 Shoes",
          "rating": 1,
          "revenue": 1555.2,
          "reviews": 45,
          "sale_price": 19.2
         }
        ],
        "schema": {
         "fields": [
          {
           "name": "index",
           "type": "integer"
          },
          {
           "name": "product_name",
           "type": "string"
          },
          {
           "name": "product_id",
           "type": "string"
          },
          {
           "name": "description",
           "type": "string"
          },
          {
           "name": "listing_price",
           "type": "number"
          },
          {
           "name": "sale_price",
           "type": "number"
          },
          {
           "name": "discount",
           "type": "number"
          },
          {
           "name": "revenue",
           "type": "number"
          },
          {
           "name": "rating",
           "type": "number"
          },
          {
           "name": "reviews",
           "type": "number"
          },
          {
           "name": "last_visited",
           "type": "string"
          },
          {
           "name": "brand",
           "type": "string"
          },
          {
           "constraints": {
            "enum": [
             "Cheap",
             "Average",
             "Expensive",
             "Elite"
            ]
           },
           "name": "price_label",
           "ordered": true,
           "type": "any"
          }
         ],
         "pandas_version": "1.4.0",
         "primaryKey": [
          "index"
         ]
        }
       },
       "total_rows": 5,
       "truncation_type": null
      },
      "text/html": [
       "<div>\n",
       "<style scoped>\n",
       "    .dataframe tbody tr th:only-of-type {\n",
       "        vertical-align: middle;\n",
       "    }\n",
       "\n",
       "    .dataframe tbody tr th {\n",
       "        vertical-align: top;\n",
       "    }\n",
       "\n",
       "    .dataframe thead th {\n",
       "        text-align: right;\n",
       "    }\n",
       "</style>\n",
       "<table border=\"1\" class=\"dataframe\">\n",
       "  <thead>\n",
       "    <tr style=\"text-align: right;\">\n",
       "      <th></th>\n",
       "      <th>product_name</th>\n",
       "      <th>product_id</th>\n",
       "      <th>description</th>\n",
       "      <th>listing_price</th>\n",
       "      <th>sale_price</th>\n",
       "      <th>discount</th>\n",
       "      <th>revenue</th>\n",
       "      <th>rating</th>\n",
       "      <th>reviews</th>\n",
       "      <th>last_visited</th>\n",
       "      <th>brand</th>\n",
       "      <th>price_label</th>\n",
       "    </tr>\n",
       "  </thead>\n",
       "  <tbody>\n",
       "    <tr>\n",
       "      <th>0</th>\n",
       "      <td>Women's adidas Originals Sleek Shoes</td>\n",
       "      <td>G27341</td>\n",
       "      <td>A modern take on adidas sport heritage, tailor...</td>\n",
       "      <td>75.99</td>\n",
       "      <td>37.99</td>\n",
       "      <td>0.5</td>\n",
       "      <td>1641.17</td>\n",
       "      <td>3.3</td>\n",
       "      <td>24.0</td>\n",
       "      <td>2018-11-29 16:16:00</td>\n",
       "      <td>Adidas</td>\n",
       "      <td>Expensive</td>\n",
       "    </tr>\n",
       "    <tr>\n",
       "      <th>1</th>\n",
       "      <td>Women's adidas Swim Puka Slippers</td>\n",
       "      <td>CM0081</td>\n",
       "      <td>These adidas Puka slippers for women's come wi...</td>\n",
       "      <td>9.99</td>\n",
       "      <td>5.99</td>\n",
       "      <td>0.4</td>\n",
       "      <td>398.93</td>\n",
       "      <td>2.6</td>\n",
       "      <td>37.0</td>\n",
       "      <td>2018-02-01 10:27:00</td>\n",
       "      <td>Adidas</td>\n",
       "      <td>Cheap</td>\n",
       "    </tr>\n",
       "    <tr>\n",
       "      <th>2</th>\n",
       "      <td>Women's adidas Sport Inspired Questar Ride Shoes</td>\n",
       "      <td>B44832</td>\n",
       "      <td>Inspired by modern tech runners, these women's...</td>\n",
       "      <td>69.99</td>\n",
       "      <td>34.99</td>\n",
       "      <td>0.5</td>\n",
       "      <td>2204.37</td>\n",
       "      <td>4.1</td>\n",
       "      <td>35.0</td>\n",
       "      <td>2018-09-07 20:06:00</td>\n",
       "      <td>Adidas</td>\n",
       "      <td>Expensive</td>\n",
       "    </tr>\n",
       "    <tr>\n",
       "      <th>3</th>\n",
       "      <td>Women's adidas Originals Taekwondo Shoes</td>\n",
       "      <td>D98205</td>\n",
       "      <td>This design is inspired by vintage Taekwondo s...</td>\n",
       "      <td>79.99</td>\n",
       "      <td>39.99</td>\n",
       "      <td>0.5</td>\n",
       "      <td>5182.70</td>\n",
       "      <td>3.5</td>\n",
       "      <td>72.0</td>\n",
       "      <td>2019-07-18 15:26:00</td>\n",
       "      <td>Adidas</td>\n",
       "      <td>Expensive</td>\n",
       "    </tr>\n",
       "    <tr>\n",
       "      <th>4</th>\n",
       "      <td>Women's adidas Sport Inspired Duramo Lite 2.0 ...</td>\n",
       "      <td>B75586</td>\n",
       "      <td>Refine your interval training in these women's...</td>\n",
       "      <td>47.99</td>\n",
       "      <td>19.20</td>\n",
       "      <td>0.6</td>\n",
       "      <td>1555.20</td>\n",
       "      <td>1.0</td>\n",
       "      <td>45.0</td>\n",
       "      <td>2019-01-30 12:09:00</td>\n",
       "      <td>Adidas</td>\n",
       "      <td>Average</td>\n",
       "    </tr>\n",
       "  </tbody>\n",
       "</table>\n",
       "</div>"
      ],
      "text/plain": [
       "                                        product_name  ... price_label\n",
       "0               Women's adidas Originals Sleek Shoes  ...   Expensive\n",
       "1                  Women's adidas Swim Puka Slippers  ...       Cheap\n",
       "2   Women's adidas Sport Inspired Questar Ride Shoes  ...   Expensive\n",
       "3           Women's adidas Originals Taekwondo Shoes  ...   Expensive\n",
       "4  Women's adidas Sport Inspired Duramo Lite 2.0 ...  ...     Average\n",
       "\n",
       "[5 rows x 12 columns]"
      ]
     },
     "execution_count": 75,
     "metadata": {},
     "output_type": "execute_result"
    }
   ],
   "source": [
    "# create 4 bins based on quartile\n",
    "bin_labels = [\"Cheap\",\"Average\",\"Expensive\", \"Elite\"]\n",
    "merged_df[\"price_label\"] = pd.qcut(merged_df['listing_price'], q=4, labels=bin_labels)\n",
    "\n",
    "merged_df.head()"
   ]
  },
  {
   "cell_type": "code",
   "execution_count": 76,
   "id": "37076054-19b8-486f-9ea2-5b4a5053301c",
   "metadata": {
    "executionTime": 48,
    "lastSuccessfullyExecutedCode": "#find revenue and product count based on brand and price label\nadidas_vs_nike = merged_df.groupby(\n\t[\"brand\",\"price_label\"]\n).agg(\n\t{\n        \"price_label\" : \"count\",\n        \"revenue\" : \"mean\"\n    }\n)\nprint(adidas_vs_nike)"
   },
   "outputs": [
    {
     "name": "stdout",
     "output_type": "stream",
     "text": [
      "                    price_label      revenue\n",
      "brand  price_label                          \n",
      "Adidas Cheap                538  2050.966580\n",
      "       Average              599  2982.297429\n",
      "       Expensive            707  4599.578600\n",
      "       Elite                533  8424.178574\n",
      "Nike   Cheap                321  1664.329595\n",
      "       Average                8   675.592500\n",
      "       Expensive             43   472.739070\n",
      "       Elite                124  1418.420484\n"
     ]
    }
   ],
   "source": [
    "#find revenue and product count based on brand and price label\n",
    "adidas_vs_nike = merged_df.groupby(\n",
    "\t[\"brand\",\"price_label\"]\n",
    ").agg(\n",
    "\t{\n",
    "        \"price_label\" : \"count\",\n",
    "        \"revenue\" : \"mean\"\n",
    "    }\n",
    ")\n",
    "print(adidas_vs_nike)"
   ]
  },
  {
   "cell_type": "markdown",
   "id": "3ab063ee-1850-477b-b76a-af57ad7c474c",
   "metadata": {},
   "source": [
    "### Question Number Two"
   ]
  },
  {
   "cell_type": "code",
   "execution_count": 77,
   "id": "24f0f0aa-9282-4f94-9a3b-c8a25fdce4c3",
   "metadata": {
    "executionTime": 43,
    "lastSuccessfullyExecutedCode": "lengthes = [0,99,199,299,399,499,599,699]\nlabels =  [\"99\",\"199\",\"299\",\"399\",\"499\",\"599\",\"699\"] \n##labels should not include the zero"
   },
   "outputs": [],
   "source": [
    "lengthes = [0,99,199,299,399,499,599,699]\n",
    "labels =  [\"99\",\"199\",\"299\",\"399\",\"499\",\"599\",\"699\"] \n",
    "##labels should not include the zero"
   ]
  },
  {
   "cell_type": "code",
   "execution_count": 78,
   "id": "bd15ffef-f631-4f69-a028-ed0b5ee52174",
   "metadata": {
    "executionTime": 50,
    "lastSuccessfullyExecutedCode": "#calculate string len of product description\nmerged_df [\"word_limit\"] = merged_df[\"description\"].str.len()\n"
   },
   "outputs": [],
   "source": [
    "#calculate string len of product description\n",
    "merged_df [\"word_limit\"] = merged_df[\"description\"].str.len()\n"
   ]
  },
  {
   "cell_type": "code",
   "execution_count": 79,
   "id": "6660260c-ba6d-4044-accb-b34f047b9c44",
   "metadata": {
    "executionTime": 72,
    "lastSuccessfullyExecutedCode": "# create bins based on word_limit\nmerged_df[\"word_limit\"] = pd.cut(merged_df[\"word_limit\"], bins=lengthes, labels=labels)\n\nmerged_df.head()\n\n"
   },
   "outputs": [
    {
     "data": {
      "application/com.datacamp.data-table.v1+json": {
       "table": {
        "data": [
         {
          "brand": "Adidas",
          "description": "A modern take on adidas sport heritage, tailored just for women. Perforated 3-Stripes on the leather upper of these shoes offer a sleek look that mirrors iconic tennis styles.",
          "discount": 0.5,
          "index": 0,
          "last_visited": "2018-11-29 16:16:00",
          "listing_price": 75.99,
          "price_label": "Expensive",
          "product_id": "G27341",
          "product_name": "Women's adidas Originals Sleek Shoes",
          "rating": 3.3,
          "revenue": 1641.17,
          "reviews": 24,
          "sale_price": 37.99,
          "word_limit": "199"
         },
         {
          "brand": "Adidas",
          "description": "These adidas Puka slippers for women's come with slim straps for a great fit. Feature performance logo on the footbed and textured Rubber outsole that gives unique comfort.",
          "discount": 0.4,
          "index": 1,
          "last_visited": "2018-02-01 10:27:00",
          "listing_price": 9.99,
          "price_label": "Cheap",
          "product_id": "CM0081",
          "product_name": "Women's adidas Swim Puka Slippers",
          "rating": 2.6,
          "revenue": 398.93,
          "reviews": 37,
          "sale_price": 5.99,
          "word_limit": "199"
         },
         {
          "brand": "Adidas",
          "description": "Inspired by modern tech runners, these women's shoes step out with unexpected style. They're built with a breathable knit upper, while the heel offers the extra support of an Achilles-hugging design. The cushioned midsole provides a soft landing with every stride.",
          "discount": 0.5,
          "index": 2,
          "last_visited": "2018-09-07 20:06:00",
          "listing_price": 69.99,
          "price_label": "Expensive",
          "product_id": "B44832",
          "product_name": "Women's adidas Sport Inspired Questar Ride Shoes",
          "rating": 4.1,
          "revenue": 2204.37,
          "reviews": 35,
          "sale_price": 34.99,
          "word_limit": "299"
         },
         {
          "brand": "Adidas",
          "description": "This design is inspired by vintage Taekwondo styles originally worn to perfect high kicks and rapid foot strikes. The canvas shoes make a streetwear fashion statement as a chic, foot-hugging slip-on. They're shaped for a narrow, women's-specific fit and ride on a soft gum rubber outsole.",
          "discount": 0.5,
          "index": 3,
          "last_visited": "2019-07-18 15:26:00",
          "listing_price": 79.99,
          "price_label": "Expensive",
          "product_id": "D98205",
          "product_name": "Women's adidas Originals Taekwondo Shoes",
          "rating": 3.5,
          "revenue": 5182.7,
          "reviews": 72,
          "sale_price": 39.99,
          "word_limit": "299"
         },
         {
          "brand": "Adidas",
          "description": "Refine your interval training in these women's versatile running-inspired shoes. Featuring a lightweight mesh and synthetic upper, they combine responsive midsole cushioning with a soft collar that reduces ankle pressure.",
          "discount": 0.6,
          "index": 4,
          "last_visited": "2019-01-30 12:09:00",
          "listing_price": 47.99,
          "price_label": "Average",
          "product_id": "B75586",
          "product_name": "Women's adidas Sport Inspired Duramo Lite 2.0 Shoes",
          "rating": 1,
          "revenue": 1555.2,
          "reviews": 45,
          "sale_price": 19.2,
          "word_limit": "299"
         }
        ],
        "schema": {
         "fields": [
          {
           "name": "index",
           "type": "integer"
          },
          {
           "name": "product_name",
           "type": "string"
          },
          {
           "name": "product_id",
           "type": "string"
          },
          {
           "name": "description",
           "type": "string"
          },
          {
           "name": "listing_price",
           "type": "number"
          },
          {
           "name": "sale_price",
           "type": "number"
          },
          {
           "name": "discount",
           "type": "number"
          },
          {
           "name": "revenue",
           "type": "number"
          },
          {
           "name": "rating",
           "type": "number"
          },
          {
           "name": "reviews",
           "type": "number"
          },
          {
           "name": "last_visited",
           "type": "string"
          },
          {
           "name": "brand",
           "type": "string"
          },
          {
           "constraints": {
            "enum": [
             "Cheap",
             "Average",
             "Expensive",
             "Elite"
            ]
           },
           "name": "price_label",
           "ordered": true,
           "type": "any"
          },
          {
           "constraints": {
            "enum": [
             "99",
             "199",
             "299",
             "399",
             "499",
             "599",
             "699"
            ]
           },
           "name": "word_limit",
           "ordered": true,
           "type": "any"
          }
         ],
         "pandas_version": "1.4.0",
         "primaryKey": [
          "index"
         ]
        }
       },
       "total_rows": 5,
       "truncation_type": null
      },
      "text/html": [
       "<div>\n",
       "<style scoped>\n",
       "    .dataframe tbody tr th:only-of-type {\n",
       "        vertical-align: middle;\n",
       "    }\n",
       "\n",
       "    .dataframe tbody tr th {\n",
       "        vertical-align: top;\n",
       "    }\n",
       "\n",
       "    .dataframe thead th {\n",
       "        text-align: right;\n",
       "    }\n",
       "</style>\n",
       "<table border=\"1\" class=\"dataframe\">\n",
       "  <thead>\n",
       "    <tr style=\"text-align: right;\">\n",
       "      <th></th>\n",
       "      <th>product_name</th>\n",
       "      <th>product_id</th>\n",
       "      <th>description</th>\n",
       "      <th>listing_price</th>\n",
       "      <th>sale_price</th>\n",
       "      <th>discount</th>\n",
       "      <th>revenue</th>\n",
       "      <th>rating</th>\n",
       "      <th>reviews</th>\n",
       "      <th>last_visited</th>\n",
       "      <th>brand</th>\n",
       "      <th>price_label</th>\n",
       "      <th>word_limit</th>\n",
       "    </tr>\n",
       "  </thead>\n",
       "  <tbody>\n",
       "    <tr>\n",
       "      <th>0</th>\n",
       "      <td>Women's adidas Originals Sleek Shoes</td>\n",
       "      <td>G27341</td>\n",
       "      <td>A modern take on adidas sport heritage, tailor...</td>\n",
       "      <td>75.99</td>\n",
       "      <td>37.99</td>\n",
       "      <td>0.5</td>\n",
       "      <td>1641.17</td>\n",
       "      <td>3.3</td>\n",
       "      <td>24.0</td>\n",
       "      <td>2018-11-29 16:16:00</td>\n",
       "      <td>Adidas</td>\n",
       "      <td>Expensive</td>\n",
       "      <td>199</td>\n",
       "    </tr>\n",
       "    <tr>\n",
       "      <th>1</th>\n",
       "      <td>Women's adidas Swim Puka Slippers</td>\n",
       "      <td>CM0081</td>\n",
       "      <td>These adidas Puka slippers for women's come wi...</td>\n",
       "      <td>9.99</td>\n",
       "      <td>5.99</td>\n",
       "      <td>0.4</td>\n",
       "      <td>398.93</td>\n",
       "      <td>2.6</td>\n",
       "      <td>37.0</td>\n",
       "      <td>2018-02-01 10:27:00</td>\n",
       "      <td>Adidas</td>\n",
       "      <td>Cheap</td>\n",
       "      <td>199</td>\n",
       "    </tr>\n",
       "    <tr>\n",
       "      <th>2</th>\n",
       "      <td>Women's adidas Sport Inspired Questar Ride Shoes</td>\n",
       "      <td>B44832</td>\n",
       "      <td>Inspired by modern tech runners, these women's...</td>\n",
       "      <td>69.99</td>\n",
       "      <td>34.99</td>\n",
       "      <td>0.5</td>\n",
       "      <td>2204.37</td>\n",
       "      <td>4.1</td>\n",
       "      <td>35.0</td>\n",
       "      <td>2018-09-07 20:06:00</td>\n",
       "      <td>Adidas</td>\n",
       "      <td>Expensive</td>\n",
       "      <td>299</td>\n",
       "    </tr>\n",
       "    <tr>\n",
       "      <th>3</th>\n",
       "      <td>Women's adidas Originals Taekwondo Shoes</td>\n",
       "      <td>D98205</td>\n",
       "      <td>This design is inspired by vintage Taekwondo s...</td>\n",
       "      <td>79.99</td>\n",
       "      <td>39.99</td>\n",
       "      <td>0.5</td>\n",
       "      <td>5182.70</td>\n",
       "      <td>3.5</td>\n",
       "      <td>72.0</td>\n",
       "      <td>2019-07-18 15:26:00</td>\n",
       "      <td>Adidas</td>\n",
       "      <td>Expensive</td>\n",
       "      <td>299</td>\n",
       "    </tr>\n",
       "    <tr>\n",
       "      <th>4</th>\n",
       "      <td>Women's adidas Sport Inspired Duramo Lite 2.0 ...</td>\n",
       "      <td>B75586</td>\n",
       "      <td>Refine your interval training in these women's...</td>\n",
       "      <td>47.99</td>\n",
       "      <td>19.20</td>\n",
       "      <td>0.6</td>\n",
       "      <td>1555.20</td>\n",
       "      <td>1.0</td>\n",
       "      <td>45.0</td>\n",
       "      <td>2019-01-30 12:09:00</td>\n",
       "      <td>Adidas</td>\n",
       "      <td>Average</td>\n",
       "      <td>299</td>\n",
       "    </tr>\n",
       "  </tbody>\n",
       "</table>\n",
       "</div>"
      ],
      "text/plain": [
       "                                        product_name  ... word_limit\n",
       "0               Women's adidas Originals Sleek Shoes  ...        199\n",
       "1                  Women's adidas Swim Puka Slippers  ...        199\n",
       "2   Women's adidas Sport Inspired Questar Ride Shoes  ...        299\n",
       "3           Women's adidas Originals Taekwondo Shoes  ...        299\n",
       "4  Women's adidas Sport Inspired Duramo Lite 2.0 ...  ...        299\n",
       "\n",
       "[5 rows x 13 columns]"
      ]
     },
     "execution_count": 79,
     "metadata": {},
     "output_type": "execute_result"
    }
   ],
   "source": [
    "# create bins based on word_limit\n",
    "merged_df[\"word_limit\"] = pd.cut(merged_df[\"word_limit\"], bins=lengthes, labels=labels)\n",
    "\n",
    "merged_df.head()\n",
    "\n"
   ]
  },
  {
   "cell_type": "code",
   "execution_count": 85,
   "id": "1d260591-3b48-48a4-82e9-994ec31e2c05",
   "metadata": {
    "executionTime": 49,
    "lastSuccessfullyExecutedCode": "# show result for description_length and rating, and how many reviews\ndescriptions = merged_df.groupby(\n    \"word_limit\").agg(\n    {\n        \"rating\": \"mean\",\n        \"reviews\": \"count\"\n    }\n)\n\nprint(description_lengths)"
   },
   "outputs": [
    {
     "name": "stdout",
     "output_type": "stream",
     "text": [
      "              rating  reviews\n",
      "word_limit                   \n",
      "99          1.866667        6\n",
      "199         3.188937      461\n",
      "299         3.287108     1660\n",
      "399         3.313765      603\n",
      "499         3.396460      113\n",
      "599         3.120000       15\n",
      "699         3.653333       15\n"
     ]
    }
   ],
   "source": [
    "# show result for description_length and rating, and how many reviews\n",
    "descriptions = merged_df.groupby(\n",
    "    \"word_limit\").agg(\n",
    "    {\n",
    "        \"rating\": \"mean\",\n",
    "        \"reviews\": \"count\"\n",
    "    }\n",
    ")\n",
    "\n",
    "print(description_lengths)"
   ]
  },
  {
   "cell_type": "markdown",
   "id": "68a740f8-3c85-4642-b946-f39560eb87e8",
   "metadata": {},
   "source": [
    "### Question Number 3\n",
    "## Compare footwear products and clothing products data"
   ]
  },
  {
   "cell_type": "code",
   "execution_count": 86,
   "id": "6de6ef59-4901-4252-be70-d4d5dab32b0c",
   "metadata": {
    "executionTime": 160,
    "jupyter": {
     "outputs_hidden": false,
     "source_hidden": false
    },
    "lastSuccessfullyExecutedCode": "##create datasets copy\nfootwear = merged_df.copy(deep=True)\n\n#create list for shoes, use wildcard\nmylist = \"shoe*|trainer*|foot*\"\n\n#create dataframe for footwear product\nfootwear = merged_df[merged_df[\"description\"].str.contains(mylist)]\n\n"
   },
   "outputs": [],
   "source": [
    "##create datasets copy\n",
    "footwear = merged_df.copy(deep=True)\n",
    "\n",
    "#create list for shoes, use wildcard\n",
    "mylist = \"shoe*|trainer*|foot*\"\n",
    "\n",
    "#create dataframe for footwear product\n",
    "footwear = merged_df[merged_df[\"description\"].str.contains(mylist)]\n",
    "\n"
   ]
  },
  {
   "cell_type": "code",
   "execution_count": 87,
   "id": "f0691609-9138-46da-a8fe-41c084c714aa",
   "metadata": {
    "executionTime": 109,
    "jupyter": {
     "outputs_hidden": false,
     "source_hidden": false
    },
    "lastSuccessfullyExecutedCode": "#filter for clothing products by using tilde ~, all data that are not in footwar\nclothing = merged_df[~merged_df.isin(footwear[\"product_id\"])]\n\n"
   },
   "outputs": [],
   "source": [
    "#filter for clothing products by using tilde ~, all data that are not in footwar\n",
    "clothing = merged_df[~merged_df.isin(footwear[\"product_id\"])]\n",
    "\n"
   ]
  },
  {
   "cell_type": "code",
   "execution_count": 64,
   "id": "752d6eff-09bd-4922-a381-4dc75d047d71",
   "metadata": {
    "collapsed": true,
    "executionTime": 54,
    "jupyter": {
     "outputs_hidden": true,
     "source_hidden": true
    },
    "lastSuccessfullyExecutedCode": "#checking if the data has been filtered rightly\n\nprint(\nmerged_df.groupby(\"brand\").agg({\n    \"product_id\" : \"count\",\n    \"revenue\" : \"sum\"\n})\n)\n\n\nprint(\nfootwear.groupby(\"brand\").agg({\n    \"product_id\" : \"count\",\n    \"revenue\" : \"sum\"\n})\n)\n\nprint(\nclothing.groupby(\"brand\").agg({\n    \"product_id\" : \"count\",\n    \"revenue\" : \"sum\"\n})\n)\n"
   },
   "outputs": [
    {
     "name": "stdout",
     "output_type": "stream",
     "text": [
      "        product_id      revenue\n",
      "brand                          \n",
      "Adidas        2377  10631805.43\n",
      "Nike           496    735866.46\n",
      "        product_id     revenue\n",
      "brand                         \n",
      "Adidas        2230  9938636.67\n",
      "Nike           204   257760.87\n",
      "        product_id      revenue\n",
      "brand                          \n",
      "Adidas         147  10631805.43\n",
      "Nike           292    735866.46\n"
     ]
    }
   ],
   "source": [
    "#checking if the data has been filtered rightly\n",
    "\n",
    "print(\n",
    "merged_df.groupby(\"brand\").agg({\n",
    "    \"product_id\" : \"count\",\n",
    "    \"revenue\" : \"sum\"\n",
    "})\n",
    ")\n",
    "\n",
    "\n",
    "print(\n",
    "footwear.groupby(\"brand\").agg({\n",
    "    \"product_id\" : \"count\",\n",
    "    \"revenue\" : \"sum\"\n",
    "})\n",
    ")\n",
    "\n",
    "print(\n",
    "clothing.groupby(\"brand\").agg({\n",
    "    \"product_id\" : \"count\",\n",
    "    \"revenue\" : \"sum\"\n",
    "})\n",
    ")\n"
   ]
  },
  {
   "cell_type": "code",
   "execution_count": 88,
   "id": "1026b054-3b07-48db-8c2e-2b94235f7f68",
   "metadata": {
    "executionTime": 58,
    "lastSuccessfullyExecutedCode": "#calculate the median revenues and number of products for each category\n\nclothing.dropna(inplace=True)\n\n#create new data frame to include both clothing and footwear\nproduct_types = pd.DataFrame({\"clothing_products\": len(clothing),\n                              \"clothing_revenue\": clothing[\"revenue\"].median(),\n                              \"footwear_products\": len(footwear),\n                              \"footwear_revenue\": footwear[\"revenue\"].median()                 \n    }, index=[0])\n\n\nprint(product_types)\n"
   },
   "outputs": [
    {
     "name": "stdout",
     "output_type": "stream",
     "text": [
      "   clothing_products  clothing_revenue  footwear_products  footwear_revenue\n",
      "0                439            683.73               2434            3073.3\n"
     ]
    }
   ],
   "source": [
    "#calculate the median revenues and number of products for each category\n",
    "\n",
    "clothing.dropna(inplace=True)\n",
    "\n",
    "#create new data frame to include both clothing and footwear\n",
    "product_types = pd.DataFrame({\"clothing_products\": len(clothing),\n",
    "                              \"clothing_revenue\": clothing[\"revenue\"].median(),\n",
    "                              \"footwear_products\": len(footwear),\n",
    "                              \"footwear_revenue\": footwear[\"revenue\"].median()                 \n",
    "    }, index=[0])\n",
    "\n",
    "\n",
    "print(product_types)\n"
   ]
  },
  {
   "cell_type": "code",
   "execution_count": 89,
   "id": "f224d7a5",
   "metadata": {
    "executionTime": 53,
    "lastSuccessfullyExecutedCode": "# Share your results in this format\nrevenue_analysis = {\"brand_analysis\": adidas_vs_nike,\n                    \"description_analysis\": descriptions,\n                    \"product_analysis\": product_types}\n\n# Call the answer!\nprint(revenue_analysis)"
   },
   "outputs": [
    {
     "name": "stdout",
     "output_type": "stream",
     "text": [
      "{'brand_analysis':                     price_label      revenue\n",
      "brand  price_label                          \n",
      "Adidas Cheap                538  2050.966580\n",
      "       Average              599  2982.297429\n",
      "       Expensive            707  4599.578600\n",
      "       Elite                533  8424.178574\n",
      "Nike   Cheap                321  1664.329595\n",
      "       Average                8   675.592500\n",
      "       Expensive             43   472.739070\n",
      "       Elite                124  1418.420484, 'description_analysis':               rating  reviews\n",
      "word_limit                   \n",
      "99          1.866667        6\n",
      "199         3.188937      461\n",
      "299         3.287108     1660\n",
      "399         3.313765      603\n",
      "499         3.396460      113\n",
      "599         3.120000       15\n",
      "699         3.653333       15, 'product_analysis':    clothing_products  clothing_revenue  footwear_products  footwear_revenue\n",
      "0                439            683.73               2434            3073.3}\n"
     ]
    }
   ],
   "source": [
    "# Share your results in this format\n",
    "revenue_analysis = {\"brand_analysis\": adidas_vs_nike,\n",
    "                    \"description_analysis\": descriptions,\n",
    "                    \"product_analysis\": product_types}\n",
    "\n",
    "# Call the answer!\n",
    "print(revenue_analysis)"
   ]
  },
  {
   "cell_type": "code",
   "execution_count": 90,
   "id": "2bf4e62c-62f5-4962-9375-f2d884660ee0",
   "metadata": {
    "executionTime": 97,
    "jupyter": {
     "outputs_hidden": false,
     "source_hidden": true
    },
    "lastSuccessfullyExecutedCode": "# Read in the data\ninfo = pd.read_csv(\"info.csv\")\nfinance = pd.read_csv(\"finance.csv\")\nreviews = pd.read_csv(\"reviews.csv\")\ntraffic = pd.read_csv(\"traffic.csv\")\nbrands = pd.read_csv(\"brands.csv\")\n\n# Merge the data\nmerged_df = info.merge(finance, on=\"product_id\", how=\"outer\")\nmerged_df = merged_df.merge(reviews, on=\"product_id\", how=\"outer\")\nmerged_df = merged_df.merge(traffic, on=\"product_id\", how=\"outer\")\nmerged_df = merged_df.merge(brands, on=\"product_id\", how=\"outer\")\n\n# Drop null values\nmerged_df.dropna(inplace=True)\n\n# Add price labels based on listing_price quartiles\nmerged_df[\"price_label\"] = pd.qcut(merged_df[\"listing_price\"], 4, labels=[\"Cheap\", \"Average\", \"Expensive\", \"Elite\"])\n\n# Group by brand and price_label to get volume and mean revenue\nadidas_vs_nike = merged_df.groupby([\"brand\", \"price_label\"]).agg({\"price_label\": \"count\", \"revenue\": \"mean\"})\n\n# Upper description length limits\nlengthes = [0, 99, 199, 299, 399, 499, 599, 699]\n\n# Description length labels\nlabels = [\"99\", \"199\", \"299\", \"399\", \"499\", \"599\", \"699\"]\n\n# Store the length of each description\nmerged_df[\"word_limit\"] = merged_df[\"description\"].str.len()\n\n# Cut into bins\nmerged_df[\"word_limit\"] = pd.cut(merged_df[\"word_limit\"], bins=lengthes, labels=labels)\n\n# Group by the bins\ndescriptions = merged_df.groupby(\"word_limit\", as_index=False).agg({\"rating\": \"mean\", \"reviews\": \"count\"})\n\n# Copy the DataFrame to avoid overwriting or filtering the original data\nshoes = merged_df.copy(deep=True)\n\n# List of footwear keywords\nmylist = \"shoe*|trainer*|foot*\"\n\n# Filter for footwear products\nshoes = merged_df[merged_df[\"description\"].str.contains(mylist)]\n\n# Filter for clothing products\nclothing = merged_df[~merged_df.isin(shoes[\"product_id\"])]\n\n# Remove null product_id values from clothing DataFrame\nclothing.dropna(inplace=True)\n\n# Create product_types DataFrame\nproduct_types = pd.DataFrame({\"clothing_products\": len(clothing), \n                              \"clothing_revenue\": clothing[\"revenue\"].median(), \n                              \"footwear_products\": len(shoes), \n                              \"footwear_revenue\": shoes[\"revenue\"].median()}, \n                              index=[0])\n\n# Share your results in this format\nrevenue_analysis = {\"brand_analysis\": adidas_vs_nike,\n                    \"description_analysis\": descriptions,\n                    \"product_analysis\": product_types}\n\n# Call the answer!\nprint(revenue_analysis)"
   },
   "outputs": [
    {
     "name": "stdout",
     "output_type": "stream",
     "text": [
      "{'brand_analysis':                     price_label      revenue\n",
      "brand  price_label                          \n",
      "Adidas Cheap                538  2050.966580\n",
      "       Average              599  2982.297429\n",
      "       Expensive            707  4599.578600\n",
      "       Elite                533  8424.178574\n",
      "Nike   Cheap                321  1664.329595\n",
      "       Average                8   675.592500\n",
      "       Expensive             43   472.739070\n",
      "       Elite                124  1418.420484, 'description_analysis':   word_limit    rating  reviews\n",
      "0         99  1.866667        6\n",
      "1        199  3.188937      461\n",
      "2        299  3.287108     1660\n",
      "3        399  3.313765      603\n",
      "4        499  3.396460      113\n",
      "5        599  3.120000       15\n",
      "6        699  3.653333       15, 'product_analysis':    clothing_products  clothing_revenue  footwear_products  footwear_revenue\n",
      "0                439            683.73               2434            3073.3}\n"
     ]
    }
   ],
   "source": []
  }
 ],
 "metadata": {
  "colab": {
   "name": "Welcome to DataCamp Workspaces.ipynb",
   "provenance": []
  },
  "editor": "DataCamp Workspace",
  "kernelspec": {
   "display_name": "Python 3 (ipykernel)",
   "language": "python",
   "name": "python3"
  },
  "language_info": {
   "codemirror_mode": {
    "name": "ipython",
    "version": 3
   },
   "file_extension": ".py",
   "mimetype": "text/x-python",
   "name": "python",
   "nbconvert_exporter": "python",
   "pygments_lexer": "ipython3",
   "version": "3.9.13"
  },
  "vscode": {
   "interpreter": {
    "hash": "4c28dce1b92814dac96c640b6c1f64aef8100cfec6687e74ab3caef459440498"
   }
  }
 },
 "nbformat": 4,
 "nbformat_minor": 5
}
